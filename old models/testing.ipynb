{
 "cells": [
  {
   "cell_type": "code",
   "execution_count": 83,
   "metadata": {},
   "outputs": [],
   "source": [
    "import pandas as pd"
   ]
  },
  {
   "cell_type": "code",
   "execution_count": 84,
   "metadata": {},
   "outputs": [],
   "source": [
    "df3 = pd.read_csv('snopes_df')"
   ]
  },
  {
   "cell_type": "code",
   "execution_count": 85,
   "metadata": {},
   "outputs": [
    {
     "data": {
      "text/html": [
       "<div>\n",
       "<style scoped>\n",
       "    .dataframe tbody tr th:only-of-type {\n",
       "        vertical-align: middle;\n",
       "    }\n",
       "\n",
       "    .dataframe tbody tr th {\n",
       "        vertical-align: top;\n",
       "    }\n",
       "\n",
       "    .dataframe thead th {\n",
       "        text-align: right;\n",
       "    }\n",
       "</style>\n",
       "<table border=\"1\" class=\"dataframe\">\n",
       "  <thead>\n",
       "    <tr style=\"text-align: right;\">\n",
       "      <th></th>\n",
       "      <th>Unnamed: 0</th>\n",
       "      <th>id</th>\n",
       "      <th>claim</th>\n",
       "      <th>article_title</th>\n",
       "      <th>author</th>\n",
       "      <th>publish_date</th>\n",
       "      <th>harvest_date</th>\n",
       "      <th>url</th>\n",
       "      <th>label</th>\n",
       "      <th>article_text</th>\n",
       "    </tr>\n",
       "  </thead>\n",
       "  <tbody>\n",
       "    <tr>\n",
       "      <th>0</th>\n",
       "      <td>0</td>\n",
       "      <td>0</td>\n",
       "      <td>Εάν έχετε βηματοδότη, μπορείτε να το δωρίσετε ...</td>\n",
       "      <td>Μπορείτε να δωρίσετε τον βηματοδότη σας σε ένα...</td>\n",
       "      <td>Aleksandra Wrona</td>\n",
       "      <td>Dec 13, 2023</td>\n",
       "      <td>00:12:16.868855</td>\n",
       "      <td>https://www.snopes.com/fact-check/dog-pacemake...</td>\n",
       "      <td>True</td>\n",
       "      <td>Απαίτηση:\\n\\nΕάν έχετε βηματοδότη, μπορείτε να...</td>\n",
       "    </tr>\n",
       "    <tr>\n",
       "      <th>1</th>\n",
       "      <td>1</td>\n",
       "      <td>1</td>\n",
       "      <td>Μια φωτογραφία δείχνει πραγματικά ένα \"Young B...</td>\n",
       "      <td>Δεν υπάρχουν στοιχεία που δείχνουν αυτό το ιογ...</td>\n",
       "      <td>Madison Dapcevich</td>\n",
       "      <td>Dec 13, 2023</td>\n",
       "      <td>00:12:16.868855</td>\n",
       "      <td>https://www.snopes.com/fact-check/viral-pic-sh...</td>\n",
       "      <td>Unfounded</td>\n",
       "      <td>Απαίτηση:\\n\\nΜια φωτογραφία δείχνει πραγματικά...</td>\n",
       "    </tr>\n",
       "    <tr>\n",
       "      <th>2</th>\n",
       "      <td>2</td>\n",
       "      <td>2</td>\n",
       "      <td>Ο Mark Wahlberg θα συμμετάσχει στους μουσικούς...</td>\n",
       "      <td>Είναι ο Mark Wahlberg ενώνει τον Jason Aldean ...</td>\n",
       "      <td>Taija PerryCook</td>\n",
       "      <td>Dec 12, 2023</td>\n",
       "      <td>00:12:16.868855</td>\n",
       "      <td>https://www.snopes.com/fact-check/is-mark-wahl...</td>\n",
       "      <td>Labeled Satire</td>\n",
       "      <td>Απαίτηση:\\n\\nΟ Mark Wahlberg θα συμμετάσχει στ...</td>\n",
       "    </tr>\n",
       "    <tr>\n",
       "      <th>3</th>\n",
       "      <td>3</td>\n",
       "      <td>3</td>\n",
       "      <td>Η Disney και η Pixar ανακοίνωσαν ότι ένα remak...</td>\n",
       "      <td>Είναι ένα remake \"Land Before Time\" στα έργα τ...</td>\n",
       "      <td>Jordan Liles</td>\n",
       "      <td>Dec 12, 2023</td>\n",
       "      <td>00:12:16.868855</td>\n",
       "      <td>https://www.snopes.com/fact-check/land-before-...</td>\n",
       "      <td>Labeled Satire</td>\n",
       "      <td>Απαίτηση:\\n\\nΗ Disney και η Pixar ανακοίνωσαν ...</td>\n",
       "    </tr>\n",
       "    <tr>\n",
       "      <th>4</th>\n",
       "      <td>4</td>\n",
       "      <td>4</td>\n",
       "      <td>Οι αυθεντικές φωτογραφίες δείχνουν ότι ο Taylo...</td>\n",
       "      <td>Είναι αυτές οι πραγματικές φωτογραφίες του Tay...</td>\n",
       "      <td>Nur Ibrahim</td>\n",
       "      <td>Dec 12, 2023</td>\n",
       "      <td>00:12:16.868855</td>\n",
       "      <td>https://www.snopes.com/fact-check/taylor-swift...</td>\n",
       "      <td>True</td>\n",
       "      <td>Απαίτηση:\\n\\nΟι αυθεντικές φωτογραφίες δείχνου...</td>\n",
       "    </tr>\n",
       "  </tbody>\n",
       "</table>\n",
       "</div>"
      ],
      "text/plain": [
       "   Unnamed: 0  id                                              claim  \\\n",
       "0           0   0  Εάν έχετε βηματοδότη, μπορείτε να το δωρίσετε ...   \n",
       "1           1   1  Μια φωτογραφία δείχνει πραγματικά ένα \"Young B...   \n",
       "2           2   2  Ο Mark Wahlberg θα συμμετάσχει στους μουσικούς...   \n",
       "3           3   3  Η Disney και η Pixar ανακοίνωσαν ότι ένα remak...   \n",
       "4           4   4  Οι αυθεντικές φωτογραφίες δείχνουν ότι ο Taylo...   \n",
       "\n",
       "                                       article_title             author  \\\n",
       "0  Μπορείτε να δωρίσετε τον βηματοδότη σας σε ένα...   Aleksandra Wrona   \n",
       "1  Δεν υπάρχουν στοιχεία που δείχνουν αυτό το ιογ...  Madison Dapcevich   \n",
       "2  Είναι ο Mark Wahlberg ενώνει τον Jason Aldean ...    Taija PerryCook   \n",
       "3  Είναι ένα remake \"Land Before Time\" στα έργα τ...       Jordan Liles   \n",
       "4  Είναι αυτές οι πραγματικές φωτογραφίες του Tay...        Nur Ibrahim   \n",
       "\n",
       "   publish_date     harvest_date  \\\n",
       "0  Dec 13, 2023  00:12:16.868855   \n",
       "1  Dec 13, 2023  00:12:16.868855   \n",
       "2  Dec 12, 2023  00:12:16.868855   \n",
       "3  Dec 12, 2023  00:12:16.868855   \n",
       "4  Dec 12, 2023  00:12:16.868855   \n",
       "\n",
       "                                                 url           label  \\\n",
       "0  https://www.snopes.com/fact-check/dog-pacemake...            True   \n",
       "1  https://www.snopes.com/fact-check/viral-pic-sh...       Unfounded   \n",
       "2  https://www.snopes.com/fact-check/is-mark-wahl...  Labeled Satire   \n",
       "3  https://www.snopes.com/fact-check/land-before-...  Labeled Satire   \n",
       "4  https://www.snopes.com/fact-check/taylor-swift...            True   \n",
       "\n",
       "                                        article_text  \n",
       "0  Απαίτηση:\\n\\nΕάν έχετε βηματοδότη, μπορείτε να...  \n",
       "1  Απαίτηση:\\n\\nΜια φωτογραφία δείχνει πραγματικά...  \n",
       "2  Απαίτηση:\\n\\nΟ Mark Wahlberg θα συμμετάσχει στ...  \n",
       "3  Απαίτηση:\\n\\nΗ Disney και η Pixar ανακοίνωσαν ...  \n",
       "4  Απαίτηση:\\n\\nΟι αυθεντικές φωτογραφίες δείχνου...  "
      ]
     },
     "execution_count": 85,
     "metadata": {},
     "output_type": "execute_result"
    }
   ],
   "source": [
    "df3.head()"
   ]
  },
  {
   "cell_type": "code",
   "execution_count": 86,
   "metadata": {},
   "outputs": [],
   "source": [
    "df3 = df3[['id','claim','label']]\n",
    "df3.insert(2, 'text_embedding', '')\n"
   ]
  },
  {
   "cell_type": "code",
   "execution_count": 87,
   "metadata": {},
   "outputs": [
    {
     "data": {
      "text/plain": [
       "False                   693\n",
       "Labeled Satire          582\n",
       "True                    489\n",
       "Miscaptioned            277\n",
       "Fake                    269\n",
       "Correct Attribution     108\n",
       "Mixture                 107\n",
       "Unfounded                89\n",
       "Originated as Satire     68\n",
       "Unproven                 67\n",
       "Scam                     49\n",
       "Mostly True              30\n",
       "Misattributed            22\n",
       "Mostly False             18\n",
       "Outdated                 12\n",
       "Research In Progress     11\n",
       "Legit                     6\n",
       "Legend                    4\n",
       "Name: label, dtype: int64"
      ]
     },
     "execution_count": 87,
     "metadata": {},
     "output_type": "execute_result"
    }
   ],
   "source": [
    "df3.label.value_counts()"
   ]
  },
  {
   "cell_type": "code",
   "execution_count": 88,
   "metadata": {},
   "outputs": [],
   "source": [
    "mapping = {'Scam':0,'Mixture':3,'Mostly False':0, 'Outdated':None, 'True':1 ,'Legit':1 ,'False': 0,'Fake': 0,'Satire': 4,'Originated as Satire': 4,'Unproven': 0,'Research In Progress': 2,\n",
    "           'Unfounded': None,'Miscaptioned': None,'Correct Attribution': None,'Mostly True':1, 'Missatributed':3, 'Labeled Satire':4, 'Legend':None }"
   ]
  },
  {
   "cell_type": "code",
   "execution_count": 89,
   "metadata": {},
   "outputs": [],
   "source": [
    "df3['label'] = df3['label'].map(mapping)"
   ]
  },
  {
   "cell_type": "code",
   "execution_count": 90,
   "metadata": {},
   "outputs": [
    {
     "data": {
      "text/html": [
       "<div>\n",
       "<style scoped>\n",
       "    .dataframe tbody tr th:only-of-type {\n",
       "        vertical-align: middle;\n",
       "    }\n",
       "\n",
       "    .dataframe tbody tr th {\n",
       "        vertical-align: top;\n",
       "    }\n",
       "\n",
       "    .dataframe thead th {\n",
       "        text-align: right;\n",
       "    }\n",
       "</style>\n",
       "<table border=\"1\" class=\"dataframe\">\n",
       "  <thead>\n",
       "    <tr style=\"text-align: right;\">\n",
       "      <th></th>\n",
       "      <th>id</th>\n",
       "      <th>claim</th>\n",
       "      <th>text_embedding</th>\n",
       "      <th>label</th>\n",
       "    </tr>\n",
       "  </thead>\n",
       "  <tbody>\n",
       "    <tr>\n",
       "      <th>0</th>\n",
       "      <td>0</td>\n",
       "      <td>Εάν έχετε βηματοδότη, μπορείτε να το δωρίσετε ...</td>\n",
       "      <td></td>\n",
       "      <td>1.0</td>\n",
       "    </tr>\n",
       "    <tr>\n",
       "      <th>1</th>\n",
       "      <td>1</td>\n",
       "      <td>Μια φωτογραφία δείχνει πραγματικά ένα \"Young B...</td>\n",
       "      <td></td>\n",
       "      <td>NaN</td>\n",
       "    </tr>\n",
       "    <tr>\n",
       "      <th>2</th>\n",
       "      <td>2</td>\n",
       "      <td>Ο Mark Wahlberg θα συμμετάσχει στους μουσικούς...</td>\n",
       "      <td></td>\n",
       "      <td>4.0</td>\n",
       "    </tr>\n",
       "    <tr>\n",
       "      <th>3</th>\n",
       "      <td>3</td>\n",
       "      <td>Η Disney και η Pixar ανακοίνωσαν ότι ένα remak...</td>\n",
       "      <td></td>\n",
       "      <td>4.0</td>\n",
       "    </tr>\n",
       "    <tr>\n",
       "      <th>4</th>\n",
       "      <td>4</td>\n",
       "      <td>Οι αυθεντικές φωτογραφίες δείχνουν ότι ο Taylo...</td>\n",
       "      <td></td>\n",
       "      <td>1.0</td>\n",
       "    </tr>\n",
       "  </tbody>\n",
       "</table>\n",
       "</div>"
      ],
      "text/plain": [
       "   id                                              claim text_embedding  label\n",
       "0   0  Εάν έχετε βηματοδότη, μπορείτε να το δωρίσετε ...                   1.0\n",
       "1   1  Μια φωτογραφία δείχνει πραγματικά ένα \"Young B...                   NaN\n",
       "2   2  Ο Mark Wahlberg θα συμμετάσχει στους μουσικούς...                   4.0\n",
       "3   3  Η Disney και η Pixar ανακοίνωσαν ότι ένα remak...                   4.0\n",
       "4   4  Οι αυθεντικές φωτογραφίες δείχνουν ότι ο Taylo...                   1.0"
      ]
     },
     "execution_count": 90,
     "metadata": {},
     "output_type": "execute_result"
    }
   ],
   "source": [
    "df3.head()"
   ]
  },
  {
   "cell_type": "code",
   "execution_count": 91,
   "metadata": {},
   "outputs": [],
   "source": [
    "df3 = df3.dropna(subset=['label'])\n",
    "df3.reset_index(inplace=True, drop=True)\n",
    "df3['id'] = df3.index\n"
   ]
  },
  {
   "cell_type": "code",
   "execution_count": 92,
   "metadata": {},
   "outputs": [
    {
     "data": {
      "text/plain": [
       "0.0    1096\n",
       "4.0     650\n",
       "1.0     525\n",
       "3.0     107\n",
       "2.0      11\n",
       "Name: label, dtype: int64"
      ]
     },
     "execution_count": 92,
     "metadata": {},
     "output_type": "execute_result"
    }
   ],
   "source": [
    "df3.label.value_counts()"
   ]
  },
  {
   "cell_type": "code",
   "execution_count": 93,
   "metadata": {},
   "outputs": [
    {
     "data": {
      "text/html": [
       "<div>\n",
       "<style scoped>\n",
       "    .dataframe tbody tr th:only-of-type {\n",
       "        vertical-align: middle;\n",
       "    }\n",
       "\n",
       "    .dataframe tbody tr th {\n",
       "        vertical-align: top;\n",
       "    }\n",
       "\n",
       "    .dataframe thead th {\n",
       "        text-align: right;\n",
       "    }\n",
       "</style>\n",
       "<table border=\"1\" class=\"dataframe\">\n",
       "  <thead>\n",
       "    <tr style=\"text-align: right;\">\n",
       "      <th></th>\n",
       "      <th>id</th>\n",
       "      <th>claim</th>\n",
       "      <th>text_embedding</th>\n",
       "      <th>label</th>\n",
       "    </tr>\n",
       "  </thead>\n",
       "  <tbody>\n",
       "    <tr>\n",
       "      <th>0</th>\n",
       "      <td>0</td>\n",
       "      <td>Εάν έχετε βηματοδότη, μπορείτε να το δωρίσετε ...</td>\n",
       "      <td></td>\n",
       "      <td>1.0</td>\n",
       "    </tr>\n",
       "    <tr>\n",
       "      <th>1</th>\n",
       "      <td>1</td>\n",
       "      <td>Ο Mark Wahlberg θα συμμετάσχει στους μουσικούς...</td>\n",
       "      <td></td>\n",
       "      <td>4.0</td>\n",
       "    </tr>\n",
       "    <tr>\n",
       "      <th>2</th>\n",
       "      <td>2</td>\n",
       "      <td>Η Disney και η Pixar ανακοίνωσαν ότι ένα remak...</td>\n",
       "      <td></td>\n",
       "      <td>4.0</td>\n",
       "    </tr>\n",
       "    <tr>\n",
       "      <th>3</th>\n",
       "      <td>3</td>\n",
       "      <td>Οι αυθεντικές φωτογραφίες δείχνουν ότι ο Taylo...</td>\n",
       "      <td></td>\n",
       "      <td>1.0</td>\n",
       "    </tr>\n",
       "    <tr>\n",
       "      <th>4</th>\n",
       "      <td>4</td>\n",
       "      <td>Μια διαδικτυακή διαφήμιση ανέφερε με ακρίβεια ...</td>\n",
       "      <td></td>\n",
       "      <td>0.0</td>\n",
       "    </tr>\n",
       "  </tbody>\n",
       "</table>\n",
       "</div>"
      ],
      "text/plain": [
       "   id                                              claim text_embedding  label\n",
       "0   0  Εάν έχετε βηματοδότη, μπορείτε να το δωρίσετε ...                   1.0\n",
       "1   1  Ο Mark Wahlberg θα συμμετάσχει στους μουσικούς...                   4.0\n",
       "2   2  Η Disney και η Pixar ανακοίνωσαν ότι ένα remak...                   4.0\n",
       "3   3  Οι αυθεντικές φωτογραφίες δείχνουν ότι ο Taylo...                   1.0\n",
       "4   4  Μια διαδικτυακή διαφήμιση ανέφερε με ακρίβεια ...                   0.0"
      ]
     },
     "execution_count": 93,
     "metadata": {},
     "output_type": "execute_result"
    }
   ],
   "source": [
    "df3.head()"
   ]
  },
  {
   "cell_type": "code",
   "execution_count": 94,
   "metadata": {},
   "outputs": [
    {
     "data": {
      "text/plain": [
       "(2389, 4)"
      ]
     },
     "execution_count": 94,
     "metadata": {},
     "output_type": "execute_result"
    }
   ],
   "source": [
    "df3.shape"
   ]
  }
 ],
 "metadata": {
  "kernelspec": {
   "display_name": "Python 3",
   "language": "python",
   "name": "python3"
  },
  "language_info": {
   "codemirror_mode": {
    "name": "ipython",
    "version": 3
   },
   "file_extension": ".py",
   "mimetype": "text/x-python",
   "name": "python",
   "nbconvert_exporter": "python",
   "pygments_lexer": "ipython3",
   "version": "3.10.8"
  }
 },
 "nbformat": 4,
 "nbformat_minor": 2
}
