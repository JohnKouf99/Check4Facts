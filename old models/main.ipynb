{
 "cells": [
  {
   "cell_type": "code",
   "execution_count": 7,
   "metadata": {},
   "outputs": [],
   "source": [
    "# #download llm locally\n",
    "# import os\n",
    "# from huggingface_hub import hf_hub_download\n",
    "# import torch\n",
    "\n",
    "\n",
    "# HUGGING_FACE_API_KEY = os.environ.get('HUGGING_FACE_API_KEY')\n",
    "\n",
    "\n",
    "# model_id = \"mistralai/Mistral-7B-v0.1\"\n",
    "\n",
    "# filenames = [\n",
    "#         \"config.json\", \"generation_config.json\", \n",
    "#         \"pytorch_model-00001-of-00005.bin\", \n",
    "#           \"pytorch_model.bin.index.json\", \"special_tokens_map.json\", \"tokenizer.json\", \"tokenizer_config.json\"\n",
    "\n",
    "# ]\n",
    "\n",
    "\n",
    "# for filename in filenames:\n",
    "#     downloaded_model_path = hf_hub_download(\n",
    "#                     repo_id=model_id,\n",
    "#                     filename=filename,\n",
    "#                     token=HUGGING_FACE_API_KEY)\n",
    "#     print(downloaded_model_path)\n",
    "\n",
    "\n",
    "# from transformers import AutoTokenizer, AutoModelForCausalLM, pipeline, AutoModelForSeq2SeqLM\n",
    "\n",
    "# tokenizer = AutoTokenizer.from_pretrained(model_id, legacy=False)\n",
    "\n",
    "\n",
    "# model = AutoModelForCausalLM.from_pretrained(model_id)\n",
    "\n",
    "# pipeline = pipeline(\"text-generation\", model=model, device=-1, tokenizer=tokenizer, max_length=1000)\n"
   ]
  },
  {
   "cell_type": "markdown",
   "metadata": {},
   "source": [
    "## Minstral AI\n"
   ]
  },
  {
   "cell_type": "code",
   "execution_count": 1,
   "metadata": {},
   "outputs": [
    {
     "name": "stderr",
     "output_type": "stream",
     "text": [
      "CUDA extension not installed.\n",
      "CUDA extension not installed.\n"
     ]
    }
   ],
   "source": [
    "from transformers import AutoModelForCausalLM, AutoTokenizer, pipeline\n",
    "\n",
    "model_name = \"TheBloke/SlimOpenOrca-Mistral-7B-GPTQ\"\n",
    "\n",
    "model = AutoModelForCausalLM.from_pretrained(model_name,\n",
    "\n",
    "                                             device_map=\"auto\",\n",
    "\n",
    "                                             trust_remote_code=False,\n",
    "\n",
    "                                             revision=\"main\")"
   ]
  },
  {
   "cell_type": "code",
   "execution_count": 3,
   "metadata": {},
   "outputs": [
    {
     "name": "stderr",
     "output_type": "stream",
     "text": [
      "Special tokens have been added in the vocabulary, make sure the associated word embeddings are fine-tuned or trained.\n"
     ]
    }
   ],
   "source": [
    "tokenizer = AutoTokenizer.from_pretrained(model_name, use_fast=True)"
   ]
  },
  {
   "cell_type": "code",
   "execution_count": 4,
   "metadata": {},
   "outputs": [
    {
     "name": "stdout",
     "output_type": "stream",
     "text": [
      "\n",
      "\n",
      "*** Generate:\n",
      "<s> What is the capital of Australia?\n",
      "\n",
      "The capital of Australia is Canberra.\n",
      "\n",
      "Canberra is the capital city of Australia, and it serves as the seat of the country's political power. It is unique in that it was purpose-built to house the nation's capital, and it is located at the point where the Australian Capital Territory meets the states of New South Wales and Victoria. This strategic position makes it easily accessible from both states.\n",
      "\n",
      "Canberra was established in 1908, and its foundation was a result of a competition held to choose the site for Australia's new capital. The decision to create a new capital was made due to political tensions between the two existing rivals, Sydney (the largest city in New South Wales) and Melbourne (the largest city in Victoria).\n",
      "\n",
      "The city was designed by American architect Walter Burley Griffin, who won the competition to design the new capital. His design was influenced by his belief in the harmony of natural elements, and the city's layout reflects this with its grid-like streets and curving roads that follow the landscape's natural contours.\n",
      "\n",
      "Today, Canberra is home to all the major political institutions of Australia, including Parliament House, which is one of the city's most iconic landmarks. The city is also known for its excellent cultural institutions, such as the National Gallery of Australia and the Australian War Memorial, as well as its beautiful gardens and parks.\n",
      "\n",
      "In summary, Canberra is the capital of Australia and an important political, cultural, and historical city in the country. It was purpose-built to house the nation's capital and offers a unique experience for visitors, thanks to its well-planned layout and numerous attractions.\n",
      "\n",
      "Last Updated: November 21, 2022\n",
      "\n",
      "Go Back to World Cities\n",
      "\n",
      "Categories: Australian Capital, Capital Cities, Cities, Country Capitals, Geography, Political Capitals, World Capitals\n",
      "\n",
      "Country: Australia\n",
      "\n",
      "Capital: Canberra\n",
      "\n",
      "Population: 441,000 (2021)\n",
      "\n",
      "Area: 4,678.14 km²\n",
      "\n",
      "Fun Fact: Canberra is the only capital city in the world that was purpose-built to house a country's capital.\n",
      "\n",
      "Official languages: English\n",
      "\n",
      "Currency: Australian Dollar (AUD)\n",
      "\n",
      "Mayor:\n"
     ]
    }
   ],
   "source": [
    "prompt = 'What is the capital of Australia?'\n",
    "prompt_template = f'''{prompt}\n",
    "'''\n",
    "print(\"\\n\\n*** Generate:\")\n",
    "\n",
    "input_ids = tokenizer(prompt_template, return_tensors='pt').input_ids.cuda()\n",
    "\n",
    "output = model.generate(inputs=input_ids, temperature=0.7, do_sample=True, top_p=0.95, top_k=40, max_new_tokens=512)\n",
    "\n",
    "print(tokenizer.decode(output[0]))"
   ]
  },
  {
   "cell_type": "code",
   "execution_count": null,
   "metadata": {},
   "outputs": [],
   "source": []
  }
 ],
 "metadata": {
  "kernelspec": {
   "display_name": "Python 3",
   "language": "python",
   "name": "python3"
  },
  "language_info": {
   "codemirror_mode": {
    "name": "ipython",
    "version": 3
   },
   "file_extension": ".py",
   "mimetype": "text/x-python",
   "name": "python",
   "nbconvert_exporter": "python",
   "pygments_lexer": "ipython3",
   "version": "3.10.8"
  }
 },
 "nbformat": 4,
 "nbformat_minor": 2
}
