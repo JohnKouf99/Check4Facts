{
 "cells": [
  {
   "cell_type": "code",
   "execution_count": 1,
   "metadata": {},
   "outputs": [],
   "source": [
    "import sys\n",
    "sys.path.append('../scripts')  \n",
    "from models import *\n",
    "from df_handling import *\n",
    "from search import *\n",
    "import pandas as pd\n",
    "from harvester import *\n",
    "from text_embedding import *\n",
    "from scipy.spatial.distance import cosine\n",
    "import numpy as np\n",
    "import re\n",
    "import pickle"
   ]
  },
  {
   "cell_type": "code",
   "execution_count": 2,
   "metadata": {},
   "outputs": [],
   "source": [
    "def get_html_text(url):\n",
    "        \n",
    "           \n",
    "        try:\n",
    "            response =  requests.get(url, timeout=1000, verify=False)\n",
    "            time.sleep(2)\n",
    "            if response.status_code == 200:\n",
    "                    return BeautifulSoup(response.text, 'html.parser')\n",
    "            else: \n",
    "                return None\n",
    "        except SSLError as e:\n",
    "            print(\"SSL Error:\", e)\n",
    "            print('On url: ', url)\n",
    "            return None\n",
    "        except Exception as e:\n",
    "        \n",
    "            print(\"An error occurred:\", e)\n",
    "            print('On url: ', url)\n",
    "            return None\n"
   ]
  },
  {
   "cell_type": "code",
   "execution_count": 7,
   "metadata": {},
   "outputs": [],
   "source": [
    "def get_body(soup):\n",
    "    \n",
    "        [s.extract() for s in soup(['style', 'script', '[document]', 'head', 'title', 'footer'])]\n",
    "    \n",
    "        body_text =  soup.get_text(separator ='\\n', strip=True)\n",
    "\n",
    "        texts = body_text.split('\\n')\n",
    "        \n",
    "        result = \"\\n\".join(text.strip() for text in texts if len(text.split())>3)  #.replace(\"\\n\", \" \")\n",
    "\n",
    "        return result"
   ]
  },
  {
   "cell_type": "code",
   "execution_count": null,
   "metadata": {},
   "outputs": [],
   "source": []
  }
 ],
 "metadata": {
  "kernelspec": {
   "display_name": "Python 3",
   "language": "python",
   "name": "python3"
  },
  "language_info": {
   "codemirror_mode": {
    "name": "ipython",
    "version": 3
   },
   "file_extension": ".py",
   "mimetype": "text/x-python",
   "name": "python",
   "nbconvert_exporter": "python",
   "pygments_lexer": "ipython3",
   "version": "3.10.8"
  }
 },
 "nbformat": 4,
 "nbformat_minor": 2
}
