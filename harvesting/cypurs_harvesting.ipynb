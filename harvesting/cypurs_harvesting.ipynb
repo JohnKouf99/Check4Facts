{
 "cells": [
  {
   "cell_type": "code",
   "execution_count": 7,
   "metadata": {},
   "outputs": [],
   "source": [
    "import sys\n",
    "sys.path.append('../scripts')  \n",
    "from models import *\n",
    "from df_handling import *\n",
    "from search import *\n",
    "import pandas as pd\n",
    "from harvester import *\n",
    "from text_embedding import *\n",
    "from scipy.spatial.distance import cosine\n",
    "import numpy as np\n",
    "import re"
   ]
  },
  {
   "cell_type": "code",
   "execution_count": 8,
   "metadata": {},
   "outputs": [
    {
     "data": {
      "text/plain": [
       "(129, 4)"
      ]
     },
     "execution_count": 8,
     "metadata": {},
     "output_type": "execute_result"
    }
   ],
   "source": [
    "df1 = pd.read_csv('../data/cyprus_factcheck_emb.csv')\n",
    "claims_df1 = [df1.iloc[i,1] for i in range(len(df1))]\n",
    "df1.shape"
   ]
  },
  {
   "cell_type": "code",
   "execution_count": 9,
   "metadata": {},
   "outputs": [],
   "source": [
    "# idx=0\n",
    "# batch_claim_list = list()\n",
    "# for i in range(0,150, 50):   \n",
    "#     batch_claims = claims_df1[i:i+50]\n",
    "#     for claim in batch_claims:\n",
    "#         print('Searching claim with idx: ', idx)\n",
    "#         my_searcher = GoogleSearch('https://www.google.com')\n",
    "#         claim_list = my_searcher.google_search(claim, 5)\n",
    "#         batch_claim_list.append(claim_list)\n",
    "#         idx=idx+1"
   ]
  },
  {
   "cell_type": "code",
   "execution_count": 10,
   "metadata": {},
   "outputs": [],
   "source": [
    "#saving the urls on a pkl file\n",
    "import pickle\n",
    "import sys\n",
    "# sys.setrecursionlimit(10000)\n",
    "# file_path = 'cyprus_list.pkl'\n",
    "# with open(file_path, 'wb') as file:\n",
    "#     pickle.dump(batch_claim_list, file)"
   ]
  },
  {
   "cell_type": "code",
   "execution_count": 11,
   "metadata": {},
   "outputs": [
    {
     "name": "stdout",
     "output_type": "stream",
     "text": [
      "363 387\n"
     ]
    }
   ],
   "source": [
    "file_path = 'cyprus_list.pkl'\n",
    "\n",
    "# Deserialize the list from the file using pickle\n",
    "with open(file_path, 'rb') as file:\n",
    "    my_list = pickle.load(file)\n",
    "\n",
    "# Print the list\n",
    "sum=0\n",
    "for i in range(len(my_list)):\n",
    "    sum += len(list(my_list[i])[:3])\n",
    "print(sum, 129*3)"
   ]
  },
  {
   "cell_type": "code",
   "execution_count": 12,
   "metadata": {},
   "outputs": [
    {
     "name": "stdout",
     "output_type": "stream",
     "text": [
      "https://pergamos.lib.uoa.gr/uoa/dl/frontend/file/lib/default/data/1519398/theFile\n",
      "https://www.europarl.europa.eu/doceo/document/A-9-2023-0187_EL.html\n",
      "https://curia.europa.eu/juris/document/document.jsf;jsessionid=AAE615F4A8697C05E3752CD8F0D22C64?text=&docid=196581&pageIndex=0&doclang=EL&mode=lst&dir=&occ=first&part=1&cid=24278\n",
      "https://pergamos.lib.uoa.gr/uoa/dl/frontend/file/lib/default/data/2285370/theFile\n",
      "https://www.europarl.europa.eu/doceo/document/O-7-2014-000045_EL.html\n",
      "https://www.europarl.europa.eu/doceo/document/CRE-7-2011-05-11_EL.html?redirect\n",
      "https://pergamos.lib.uoa.gr/uoa/dl/frontend/file/lib/default/data/1519398/theFile\n",
      "https://www.europarl.europa.eu/doceo/document/A-9-2023-0187_EL.html\n",
      "https://curia.europa.eu/juris/document/document.jsf?text=&docid=260205&pageIndex=0&doclang=el&mode=req&dir=&occ=first&part=1\n",
      "https://www.europarl.europa.eu/doceo/document/CRE-7-2010-03-09_EL.html\n",
      "https://curia.europa.eu/juris/document/document.jsf;jsessionid=AAE615F4A8697C05E3752CD8F0D22C64?text=&docid=196581&pageIndex=0&doclang=EL&mode=lst&dir=&occ=first&part=1&cid=24278\n",
      "https://www.europarl.europa.eu/doceo/document/TA-9-2021-04-29_EL.html\n",
      "https://curia.europa.eu/juris/document/document.jsf?text=&docid=260205&pageIndex=0&doclang=el&mode=req&dir=&occ=first&part=1\n",
      "https://www.europarl.europa.eu/doceo/document/A-5-2001-0264_EL.html\n",
      "https://curia.europa.eu/juris/document/document.jsf;jsessionid=7A80DB76BE3EAFE753A9523CC6CA785B?text=&docid=114610&pageIndex=0&doclang=EL&mode=lst&dir=&occ=first&part=1&cid=5122540\n",
      "https://curia.europa.eu/juris/document/document.jsf;jsessionid=D8AC04BB98C243DD41AE33FCDF5FC6BA?text=&docid=277627&pageIndex=0&doclang=EL&mode=req&dir=&occ=first&part=1&cid=2122799\n",
      "https://pergamos.lib.uoa.gr/uoa/dl/frontend/file/lib/default/data/2672864/theFile\n",
      "https://www.europarl.europa.eu/doceo/document/TA-9-2021-04-29_EL.html\n",
      "https://www.europarl.europa.eu/doceo/document/CRE-7-2011-05-11_EL.html?redirect\n",
      "https://pergamos.lib.uoa.gr/uoa/dl/frontend/file/lib/default/data/1519398/theFile\n",
      "https://www.europarl.europa.eu/doceo/document/A-9-2023-0187_EL.html\n",
      "https://www.europarl.europa.eu/doceo/document/A-5-2001-0264_EL.html\n",
      "https://www.europarl.europa.eu/doceo/document/A-5-2001-0264_EL.html\n",
      "https://www.europarl.europa.eu/doceo/document/CRE-6-2007-10-24_EL.pdf?redirect\n",
      "https://www.europarl.europa.eu/doceo/document/CRE-7-2010-03-09_EL.html\n"
     ]
    }
   ],
   "source": [
    "#preprocessing the list\n",
    "\n",
    "my_list2 = list()\n",
    "for sub_list in my_list:\n",
    "    list2 = list()\n",
    "    for url in sub_list:\n",
    "        if not str(url).endswith(\"txt\") and not str(url).endswith(\"theFile\") and not '/document/' in url:\n",
    "            list2.append(url)\n",
    "    my_list2.append(list2)\n"
   ]
  },
  {
   "cell_type": "code",
   "execution_count": 18,
   "metadata": {},
   "outputs": [
    {
     "name": "stdout",
     "output_type": "stream",
     "text": [
      "\n",
      "            URL: https://cmj.gr/diethneis-systaseis-kai-katefthyntiries-odigies-gia-tin-prolipsi-kai-exaleipsi-tou-karkinou-tou-trachilou-tis-mitras-2/\n",
      "            Title: Διεθνείς Συστάσεις και Κατευθυντήριες Οδηγίες για την Πρόληψη και Εξάλειψη του Καρκίνου του Τραχήλου της Μήτρας - Current Medical Journal\n",
      "            \n"
     ]
    }
   ],
   "source": [
    "dfs=[]\n",
    "for i in range(len(claims_df1)):\n",
    "    claim = claims_df1[i].strip()\n",
    "    my_harvester = Harvester(list(my_list2[i])[:5], claim, timeout=1000, claim_id=i)\n",
    "    df = my_harvester.run()\n",
    "    dfs.append(df)\n",
    "main_df = pd.concat(dfs)\n",
    "save_df(main_df, 'cyprus_harvesting.csv', None)\n"
   ]
  },
  {
   "cell_type": "code",
   "execution_count": null,
   "metadata": {},
   "outputs": [
    {
     "data": {
      "text/plain": [
       "(21, 10)"
      ]
     },
     "execution_count": 7,
     "metadata": {},
     "output_type": "execute_result"
    }
   ],
   "source": [
    "main_df.shape"
   ]
  },
  {
   "cell_type": "code",
   "execution_count": null,
   "metadata": {},
   "outputs": [
    {
     "data": {
      "text/plain": [
       "{'https://cmj.gr/diethneis-systaseis-kai-katefthyntiries-odigies-gia-tin-prolipsi-kai-exaleipsi-tou-karkinou-tou-trachilou-tis-mitras-2/',\n",
       " 'https://ecpc.org/%CE%BF%CE%B4%CE%B7%CE%B3%CE%AF%CE%B5%CF%82-%CE%B3%CE%B9%CE%B1-%CF%84%CE%BF%CE%BD-%CE%B5%CE%BC%CE%B2%CE%BF%CE%BB%CE%B9%CE%B1%CF%83%CE%BC%CF%8C-covid-19-%CE%B3%CE%B9%CE%B1-%CE%BF%CE%B3%CE%BA%CE%BF%CE%BB/',\n",
       " 'https://mdimop.gr/news/1605/',\n",
       " 'https://www.facebook.com/sciencehoaxes/',\n",
       " 'https://www.msd.gr/news-archive/page/3/'}"
      ]
     },
     "execution_count": 9,
     "metadata": {},
     "output_type": "execute_result"
    }
   ],
   "source": [
    "my_list[0]"
   ]
  },
  {
   "cell_type": "code",
   "execution_count": null,
   "metadata": {},
   "outputs": [
    {
     "data": {
      "text/plain": [
       "(129, 129)"
      ]
     },
     "execution_count": 21,
     "metadata": {},
     "output_type": "execute_result"
    }
   ],
   "source": [
    "len(claims_df1), len(my_list)"
   ]
  }
 ],
 "metadata": {
  "kernelspec": {
   "display_name": "Python 3",
   "language": "python",
   "name": "python3"
  },
  "language_info": {
   "codemirror_mode": {
    "name": "ipython",
    "version": 3
   },
   "file_extension": ".py",
   "mimetype": "text/x-python",
   "name": "python",
   "nbconvert_exporter": "python",
   "pygments_lexer": "ipython3",
   "version": "3.10.8"
  }
 },
 "nbformat": 4,
 "nbformat_minor": 2
}
