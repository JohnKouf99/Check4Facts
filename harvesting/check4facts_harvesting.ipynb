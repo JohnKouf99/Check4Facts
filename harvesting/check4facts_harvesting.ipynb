{
 "cells": [
  {
   "cell_type": "code",
   "execution_count": 1,
   "metadata": {},
   "outputs": [],
   "source": [
    "import sys\n",
    "sys.path.append('../scripts')  \n",
    "from models import *\n",
    "from df_handling import *\n",
    "from search import *\n",
    "import pandas as pd\n",
    "from harvester import *\n",
    "from text_embedding import *\n",
    "from scipy.spatial.distance import cosine\n",
    "import numpy as np\n",
    "import re\n",
    "import pickle"
   ]
  },
  {
   "cell_type": "code",
   "execution_count": 2,
   "metadata": {},
   "outputs": [
    {
     "data": {
      "text/plain": [
       "(148, 4)"
      ]
     },
     "execution_count": 2,
     "metadata": {},
     "output_type": "execute_result"
    }
   ],
   "source": [
    "df1 = pd.read_csv('../data/test1.csv')\n",
    "claims_df1 = [df1.iloc[i,1] for i in range(len(df1))]\n",
    "df1.shape"
   ]
  },
  {
   "cell_type": "code",
   "execution_count": 3,
   "metadata": {},
   "outputs": [],
   "source": [
    "#Using google search to find urls relating to the claim\n",
    "# idx=0\n",
    "# batch_claim_list = list()\n",
    "# for i in range(0,150, 50):   \n",
    "#     batch_claims = claims_df1[i:i+50]\n",
    "#     for claim in batch_claims:\n",
    "#         print('Searching claim with idx: ', idx)\n",
    "#         my_searcher = GoogleSearch('https://www.google.com')\n",
    "#         claim_list = my_searcher.google_search(claim, 5)\n",
    "#         batch_claim_list.append(claim_list)\n",
    "#         idx=idx+1"
   ]
  },
  {
   "cell_type": "code",
   "execution_count": 4,
   "metadata": {},
   "outputs": [],
   "source": [
    "#saving the url list as a pickle file\n",
    "# import pickle\n",
    "# import sys\n",
    "# sys.setrecursionlimit(10000)\n",
    "# file_path = 'check4facts_list.pkl'\n",
    "# with open(file_path, 'wb') as file:\n",
    "#     pickle.dump(batch_claim_list, file)"
   ]
  },
  {
   "cell_type": "code",
   "execution_count": 5,
   "metadata": {},
   "outputs": [
    {
     "name": "stdout",
     "output_type": "stream",
     "text": [
      "731 740\n"
     ]
    }
   ],
   "source": [
    "#reading the pickle file\n",
    "\n",
    "file_path = 'check4facts_list.pkl'\n",
    "\n",
    "# Deserialize the list from the file using pickle\n",
    "with open(file_path, 'rb') as file:\n",
    "    my_list = pickle.load(file)\n",
    "\n",
    "# Print the list\n",
    "    sum=0\n",
    "for i in range(len(my_list)):\n",
    "    sum += len(list(my_list[i])[:5])\n",
    "print(sum, 148*5)"
   ]
  },
  {
   "cell_type": "code",
   "execution_count": 6,
   "metadata": {},
   "outputs": [
    {
     "ename": "AttributeError",
     "evalue": "module 'signal' has no attribute 'SIGALRM'",
     "output_type": "error",
     "traceback": [
      "\u001b[1;31m---------------------------------------------------------------------------\u001b[0m",
      "\u001b[1;31mAttributeError\u001b[0m                            Traceback (most recent call last)",
      "Cell \u001b[1;32mIn[6], line 5\u001b[0m\n\u001b[0;32m      3\u001b[0m     claim \u001b[38;5;241m=\u001b[39m claims_df1[i]\u001b[38;5;241m.\u001b[39mstrip()\n\u001b[0;32m      4\u001b[0m     my_harvester \u001b[38;5;241m=\u001b[39m Harvester(\u001b[38;5;28mlist\u001b[39m(my_list[i])[:\u001b[38;5;241m5\u001b[39m], claim, timeout\u001b[38;5;241m=\u001b[39m\u001b[38;5;241m1000\u001b[39m, claim_id\u001b[38;5;241m=\u001b[39mi)\n\u001b[1;32m----> 5\u001b[0m     df \u001b[38;5;241m=\u001b[39m \u001b[43mmy_harvester\u001b[49m\u001b[38;5;241;43m.\u001b[39;49m\u001b[43mrun\u001b[49m\u001b[43m(\u001b[49m\u001b[43m)\u001b[49m\n\u001b[0;32m      6\u001b[0m     dfs\u001b[38;5;241m.\u001b[39mappend(df)\n\u001b[0;32m      7\u001b[0m main_df \u001b[38;5;241m=\u001b[39m pd\u001b[38;5;241m.\u001b[39mconcat(dfs, ingore_index\u001b[38;5;241m=\u001b[39m\u001b[38;5;28;01mTrue\u001b[39;00m)\n",
      "File \u001b[1;32mc:\\Users\\johnk\\Desktop\\LLM\\harvesting\\../scripts\\harvester.py:150\u001b[0m, in \u001b[0;36mHarvester.run\u001b[1;34m(self)\u001b[0m\n\u001b[0;32m    148\u001b[0m \u001b[38;5;28;01mdef\u001b[39;00m \u001b[38;5;21mrun\u001b[39m(\u001b[38;5;28mself\u001b[39m):\n\u001b[1;32m--> 150\u001b[0m     signal\u001b[38;5;241m.\u001b[39msignal(\u001b[43msignal\u001b[49m\u001b[38;5;241;43m.\u001b[39;49m\u001b[43mSIGALRM\u001b[49m, \u001b[38;5;28mself\u001b[39m\u001b[38;5;241m.\u001b[39msignal_handler)\n\u001b[0;32m    153\u001b[0m     df \u001b[38;5;241m=\u001b[39m pd\u001b[38;5;241m.\u001b[39mDataFrame(columns\u001b[38;5;241m=\u001b[39m[\u001b[38;5;124m'\u001b[39m\u001b[38;5;124mid\u001b[39m\u001b[38;5;124m'\u001b[39m,\u001b[38;5;124m'\u001b[39m\u001b[38;5;124mclaim_id\u001b[39m\u001b[38;5;124m'\u001b[39m, \u001b[38;5;124m'\u001b[39m\u001b[38;5;124mtitle\u001b[39m\u001b[38;5;124m'\u001b[39m, \u001b[38;5;124m'\u001b[39m\u001b[38;5;124mbody\u001b[39m\u001b[38;5;124m'\u001b[39m, \u001b[38;5;124m'\u001b[39m\u001b[38;5;124mmost_similar_sentence\u001b[39m\u001b[38;5;124m'\u001b[39m, \u001b[38;5;124m'\u001b[39m\u001b[38;5;124mmost_similar_paragraph\u001b[39m\u001b[38;5;124m'\u001b[39m, \n\u001b[0;32m    154\u001b[0m                                \u001b[38;5;124m'\u001b[39m\u001b[38;5;124mharvest_date\u001b[39m\u001b[38;5;124m'\u001b[39m, \u001b[38;5;124m'\u001b[39m\u001b[38;5;124murl\u001b[39m\u001b[38;5;124m'\u001b[39m, \u001b[38;5;124m'\u001b[39m\u001b[38;5;124mmost_similar_par_cos\u001b[39m\u001b[38;5;124m'\u001b[39m,\u001b[38;5;124m'\u001b[39m\u001b[38;5;124mmost_similar_sent_cos\u001b[39m\u001b[38;5;124m'\u001b[39m])\n\u001b[0;32m    156\u001b[0m     \u001b[38;5;28;01mfor\u001b[39;00m url \u001b[38;5;129;01min\u001b[39;00m \u001b[38;5;28mself\u001b[39m\u001b[38;5;241m.\u001b[39murl_list: \u001b[38;5;66;03m#na valw orio claims\u001b[39;00m\n",
      "\u001b[1;31mAttributeError\u001b[0m: module 'signal' has no attribute 'SIGALRM'"
     ]
    }
   ],
   "source": [
    "#for each url, we harvest its contents, creating a df \n",
    "dfs=[]\n",
    "for i in range(len(claims_df1)):\n",
    "    claim = claims_df1[i].strip()\n",
    "    my_harvester = Harvester(list(my_list[i])[:5], claim, timeout=1000, claim_id=i)\n",
    "    df = my_harvester.run()\n",
    "    dfs.append(df)\n"
   ]
  },
  {
   "cell_type": "code",
   "execution_count": null,
   "metadata": {},
   "outputs": [],
   "source": [
    "main_df = pd.concat(dfs, ingore_index=True)\n",
    "main_df\n"
   ]
  },
  {
   "cell_type": "code",
   "execution_count": null,
   "metadata": {},
   "outputs": [
    {
     "data": {
      "text/plain": [
       "(13, 10)"
      ]
     },
     "execution_count": 16,
     "metadata": {},
     "output_type": "execute_result"
    }
   ],
   "source": [
    "main_df.shape"
   ]
  }
 ],
 "metadata": {
  "kernelspec": {
   "display_name": "Python 3",
   "language": "python",
   "name": "python3"
  },
  "language_info": {
   "codemirror_mode": {
    "name": "ipython",
    "version": 3
   },
   "file_extension": ".py",
   "mimetype": "text/x-python",
   "name": "python",
   "nbconvert_exporter": "python",
   "pygments_lexer": "ipython3",
   "version": "3.10.8"
  }
 },
 "nbformat": 4,
 "nbformat_minor": 2
}
