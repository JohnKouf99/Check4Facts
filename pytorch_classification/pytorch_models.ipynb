{
 "cells": [
  {
   "cell_type": "code",
   "execution_count": 2,
   "metadata": {},
   "outputs": [],
   "source": [
    "import sys\n",
    "sys.path.append('../scripts')  \n",
    "from models import *\n",
    "from df_handling import *\n",
    "from search import *\n",
    "import pandas as pd\n",
    "from harvester import *\n",
    "from text_embedding import *\n",
    "import numpy as np\n",
    "from sklearn.model_selection import train_test_split\n",
    "from sklearn.decomposition import PCA\n",
    "from sklearn.model_selection import KFold\n",
    "import random\n",
    "\n",
    "import torch\n",
    "import torch.nn as nn\n",
    "import torch.nn.functional as F\n",
    "import torchvision\n",
    "import torchvision.transforms as transforms\n",
    "from torch.utils.data import Dataset, DataLoader\n",
    "from torch.utils.tensorboard import SummaryWriter\n",
    "writer  = SummaryWriter()"
   ]
  },
  {
   "cell_type": "code",
   "execution_count": 3,
   "metadata": {},
   "outputs": [],
   "source": [
    "def count_parameters(model):\n",
    "    return sum(p.numel() for p in model.parameters() if p.requires_grad)"
   ]
  },
  {
   "cell_type": "code",
   "execution_count": 4,
   "metadata": {},
   "outputs": [
    {
     "name": "stdout",
     "output_type": "stream",
     "text": [
      "148227\n"
     ]
    }
   ],
   "source": [
    "#neural network for n=1, model -4\n",
    "class NeuralNetwork(nn.Module):\n",
    "    def __init__(self):\n",
    "        super(NeuralNetwork, self).__init__()\n",
    "        self.fc1 = nn.Linear(768,192).double()\n",
    "        self.dropout = nn.Dropout(p=0.2)\n",
    "        self.fc2 = nn.Linear(192,2).double()\n",
    "        self.relu = nn.LeakyReLU() #leakyrelu\n",
    "\n",
    "    def forward(self, x):\n",
    "        x = self.relu(self.fc1(x))\n",
    "        x= self.dropout(x)\n",
    "        x = self.fc2(x) #sigmoid\n",
    "        return x\n",
    "\n",
    "device  = (\"cuda\" if torch.cuda.is_available() else \"cpu\")   \n",
    "model = NeuralNetwork()\n",
    "model.to(device)\n",
    "\n",
    "#store the number of parameters for the model\n",
    "num_parameters = count_parameters(model)\n",
    "print(num_parameters)\n"
   ]
  },
  {
   "cell_type": "code",
   "execution_count": 5,
   "metadata": {},
   "outputs": [
    {
     "name": "stdout",
     "output_type": "stream",
     "text": [
      "296451\n"
     ]
    }
   ],
   "source": [
    "#neural network for n=1, model -3\n",
    "class NeuralNetwork(nn.Module):\n",
    "    def __init__(self):\n",
    "        super(NeuralNetwork, self).__init__()\n",
    "        self.fc1 = nn.Linear(768,384).double()\n",
    "        self.dropout = nn.Dropout(p=0.2)\n",
    "        self.fc2 = nn.Linear(384,2).double()\n",
    "        self.relu = nn.LeakyReLU() #leakyrelu\n",
    "\n",
    "    def forward(self, x):\n",
    "        x = self.relu(self.fc1(x))\n",
    "        x= self.dropout(x)\n",
    "        x = self.fc2(x) #sigmoid\n",
    "        return x\n",
    "\n",
    "device  = (\"cuda\" if torch.cuda.is_available() else \"cpu\")   \n",
    "model = NeuralNetwork()\n",
    "model.to(device)\n",
    "\n",
    "#store the number of parameters for the model\n",
    "num_parameters = count_parameters(model)\n",
    "print(num_parameters)"
   ]
  },
  {
   "cell_type": "code",
   "execution_count": 6,
   "metadata": {},
   "outputs": [
    {
     "name": "stdout",
     "output_type": "stream",
     "text": [
      "591363\n"
     ]
    }
   ],
   "source": [
    "#neural network for n=1, model -2\n",
    "class NeuralNetwork(nn.Module):\n",
    "    def __init__(self):\n",
    "        super(NeuralNetwork, self).__init__()\n",
    "        self.fc1 = nn.Linear(1536,384).double()\n",
    "        self.dropout = nn.Dropout(p=0.2)\n",
    "        self.fc2 = nn.Linear(384,2).double()\n",
    "        self.relu = nn.LeakyReLU() #leakyrelu\n",
    "\n",
    "    def forward(self, x):\n",
    "        x = self.relu(self.fc1(x))\n",
    "        x= self.dropout(x)\n",
    "        x = self.fc2(x) #sigmoid\n",
    "        return x\n",
    "\n",
    "device  = (\"cuda\" if torch.cuda.is_available() else \"cpu\")   \n",
    "model = NeuralNetwork()\n",
    "model.to(device)\n",
    "\n",
    "#store the number of parameters for the model\n",
    "num_parameters = count_parameters(model)\n",
    "print(num_parameters)"
   ]
  },
  {
   "cell_type": "code",
   "execution_count": 7,
   "metadata": {},
   "outputs": [
    {
     "name": "stdout",
     "output_type": "stream",
     "text": [
      "2362371\n"
     ]
    }
   ],
   "source": [
    "#neural network for n=1, model 0\n",
    "class NeuralNetwork(nn.Module):\n",
    "    def __init__(self):\n",
    "        super(NeuralNetwork, self).__init__()\n",
    "        self.fc1 = nn.Linear(3072,768).double()\n",
    "        self.dropout = nn.Dropout(p=0.2)\n",
    "        self.fc2 = nn.Linear(768,2).double()\n",
    "        self.relu = nn.LeakyReLU() #leakyrelu\n",
    "\n",
    "    def forward(self, x):\n",
    "        x = self.relu(self.fc1(x))\n",
    "        x= self.dropout(x)\n",
    "        x = self.fc2(x) #sigmoid\n",
    "        return x\n",
    "\n",
    "device  = (\"cuda\" if torch.cuda.is_available() else \"cpu\")   \n",
    "model = NeuralNetwork()\n",
    "model.to(device)\n",
    "\n",
    "#store the number of parameters for the model\n",
    "num_parameters = count_parameters(model)\n",
    "print(num_parameters)\n"
   ]
  },
  {
   "cell_type": "code",
   "execution_count": 8,
   "metadata": {},
   "outputs": [
    {
     "name": "stdout",
     "output_type": "stream",
     "text": [
      "4724739\n"
     ]
    }
   ],
   "source": [
    "#neural network for n=1, model 1\n",
    "class NeuralNetwork(nn.Module):\n",
    "    def __init__(self):\n",
    "        super(NeuralNetwork, self).__init__()\n",
    "        self.fc1 = nn.Linear(3072,1536).double()\n",
    "        self.dropout = nn.Dropout(p=0.2)\n",
    "        self.fc2 = nn.Linear(1536,2).double()\n",
    "        self.relu = nn.LeakyReLU() #leakyrelu\n",
    "\n",
    "    def forward(self, x):\n",
    "        x = self.relu(self.fc1(x))\n",
    "        x= self.dropout(x)\n",
    "        x = self.fc2(x) #sigmoid    \n",
    "        return x\n",
    "\n",
    "device  = (\"cuda\" if torch.cuda.is_available() else \"cpu\")   \n",
    "model = NeuralNetwork()\n",
    "model.to(device)\n",
    "\n",
    "#store the number of parameters for the model\n",
    "num_parameters = count_parameters(model)\n",
    "print(num_parameters)\n",
    "\n"
   ]
  },
  {
   "cell_type": "code",
   "execution_count": 9,
   "metadata": {},
   "outputs": [
    {
     "name": "stdout",
     "output_type": "stream",
     "text": [
      "5902851\n"
     ]
    }
   ],
   "source": [
    "#neural network for n=1, model 2\n",
    "class NeuralNetwork(nn.Module):\n",
    "    def __init__(self):\n",
    "        super(NeuralNetwork, self).__init__()\n",
    "        self.fc1 = nn.Linear(3072,1536).double()\n",
    "        self.dropout1 = nn.Dropout(p=0.2)\n",
    "        self.fc2 = nn.Linear(1536,768).double()\n",
    "        self.dropout2 = nn.Dropout(p=0.2)\n",
    "        self.fc3 = nn.Linear(768,2).double()\n",
    "        self.relu = nn.LeakyReLU() #leakyrelu\n",
    "\n",
    "    def forward(self, x):\n",
    "        x = self.relu(self.fc1(x))\n",
    "        x= self.dropout1(x)\n",
    "        x = self.relu(self.fc2(x))\n",
    "        x= self.dropout2(x)\n",
    "        x = self.fc3(x) \n",
    "        return x\n",
    "    \n",
    "device  = (\"cuda\" if torch.cuda.is_available() else \"cpu\")   \n",
    "model = NeuralNetwork()\n",
    "model.to(device)\n",
    "\n",
    "#store the number of parameters for the model\n",
    "num_parameters = count_parameters(model)\n",
    "print(num_parameters)\n"
   ]
  },
  {
   "cell_type": "code",
   "execution_count": 10,
   "metadata": {},
   "outputs": [
    {
     "name": "stdout",
     "output_type": "stream",
     "text": [
      "6196995\n"
     ]
    }
   ],
   "source": [
    "#neural network for n=1, model 3\n",
    "class NeuralNetwork(nn.Module):\n",
    "    def __init__(self):\n",
    "        super(NeuralNetwork, self).__init__()\n",
    "        self.fc1 = nn.Linear(3072,1536).double()\n",
    "        self.dropout1 = nn.Dropout(p=0.2)\n",
    "        self.fc2 = nn.Linear(1536,768).double()\n",
    "        self.dropout2 = nn.Dropout(p=0.2)\n",
    "        self.fc3 = nn.Linear(768,384).double()\n",
    "        self.dropout3 = nn.Dropout(p=0.2)\n",
    "        self.fc4 = nn.Linear(384,2).double()\n",
    "        self.relu = nn.LeakyReLU() #leakyrelu\n",
    "\n",
    "    def forward(self, x):\n",
    "        x = self.relu(self.fc1(x))\n",
    "        x= self.dropout1(x)\n",
    "        x = self.relu(self.fc2(x))\n",
    "        x= self.dropout2(x)\n",
    "        x = self.relu(self.fc3(x))\n",
    "        x= self.dropout3(x)\n",
    "        x = self.fc4(x) \n",
    "        return x\n",
    "    \n",
    "device  = (\"cuda\" if torch.cuda.is_available() else \"cpu\")   \n",
    "model = NeuralNetwork()\n",
    "model.to(device)\n",
    "\n",
    "#store the number of parameters for the model\n",
    "num_parameters = count_parameters(model)\n",
    "print(num_parameters)\n"
   ]
  },
  {
   "cell_type": "code",
   "execution_count": 11,
   "metadata": {},
   "outputs": [
    {
     "name": "stdout",
     "output_type": "stream",
     "text": [
      "6270339\n"
     ]
    }
   ],
   "source": [
    "#neural network for n=1, model 4\n",
    "class NeuralNetwork(nn.Module):\n",
    "    def __init__(self):\n",
    "        super(NeuralNetwork, self).__init__()\n",
    "        self.fc1 = nn.Linear(3072,1536).double()\n",
    "        self.dropout1 = nn.Dropout(p=0.2)\n",
    "        self.fc2 = nn.Linear(1536,768).double()\n",
    "        self.dropout2 = nn.Dropout(p=0.2)\n",
    "        self.fc3 = nn.Linear(768,384).double()\n",
    "        self.dropout3 = nn.Dropout(p=0.2)\n",
    "        self.fc4 = nn.Linear(384,192).double()\n",
    "        self.dropout4 = nn.Dropout(p=0.2)\n",
    "        self.fc5 = nn.Linear(192,2).double()\n",
    "        self.relu = nn.LeakyReLU() #leakyrelu\n",
    "\n",
    "    def forward(self, x):\n",
    "        x = self.relu(self.fc1(x))\n",
    "        x= self.dropout1(x)\n",
    "        x = self.relu(self.fc2(x))\n",
    "        x= self.dropout2(x)\n",
    "        x = self.relu(self.fc3(x))\n",
    "        x= self.dropout3(x)\n",
    "        x = self.relu(self.fc4(x))\n",
    "        x= self.dropout4(x)\n",
    "        x = self.fc5(x) \n",
    "        return x\n",
    "    \n",
    "device  = (\"cuda\" if torch.cuda.is_available() else \"cpu\")   \n",
    "model = NeuralNetwork()\n",
    "model.to(device)\n",
    "\n",
    "#store the number of parameters for the model\n",
    "num_parameters = count_parameters(model)\n",
    "print(num_parameters)\n"
   ]
  },
  {
   "cell_type": "code",
   "execution_count": 12,
   "metadata": {},
   "outputs": [
    {
     "name": "stdout",
     "output_type": "stream",
     "text": [
      "148227\n"
     ]
    }
   ],
   "source": [
    "#neural network for n=2, model 0\n",
    "class NeuralNetwork(nn.Module):\n",
    "    def __init__(self):\n",
    "        super(NeuralNetwork, self).__init__()\n",
    "        self.fc1 = nn.Linear(768,192).double()\n",
    "        self.dropout = nn.Dropout(p=0.2)\n",
    "        self.fc2 = nn.Linear(192,2).double()\n",
    "        self.relu = nn.ReLU() #leakyrelu\n",
    "\n",
    "    def forward(self, x):\n",
    "        x = self.relu(self.fc1(x))\n",
    "        x = self.dropout(x)\n",
    "        x = self.fc2(x) #sigmoid\n",
    "        return x\n",
    "\n",
    "device  = (\"cuda\" if torch.cuda.is_available() else \"cpu\")   \n",
    "model = NeuralNetwork()\n",
    "model.to(device)\n",
    "\n",
    "#store the number of parameters for the model\n",
    "num_parameters = count_parameters(model)\n",
    "print(num_parameters)"
   ]
  },
  {
   "cell_type": "code",
   "execution_count": 13,
   "metadata": {},
   "outputs": [
    {
     "name": "stdout",
     "output_type": "stream",
     "text": [
      "296451\n"
     ]
    }
   ],
   "source": [
    "#neural network for n=2, model 1\n",
    "class NeuralNetwork(nn.Module):\n",
    "    def __init__(self):\n",
    "        super(NeuralNetwork, self).__init__()\n",
    "        self.fc1 = nn.Linear(768,384).double()\n",
    "        self.dropout = nn.Dropout(p=0.2)\n",
    "        self.fc2 = nn.Linear(384,2).double()\n",
    "        self.relu = nn.ReLU() #leakyrelu\n",
    "\n",
    "    def forward(self, x):\n",
    "        x = self.relu(self.fc1(x))\n",
    "        x = self.dropout(x)\n",
    "        x = self.fc2(x) #sigmoid\n",
    "        return x\n",
    "\n",
    "device  = (\"cuda\" if torch.cuda.is_available() else \"cpu\")   \n",
    "model = NeuralNetwork()\n",
    "model.to(device)\n",
    "\n",
    "#store the number of parameters for the model\n",
    "num_parameters = count_parameters(model)\n",
    "print(num_parameters)"
   ]
  },
  {
   "cell_type": "code",
   "execution_count": 14,
   "metadata": {},
   "outputs": [
    {
     "name": "stdout",
     "output_type": "stream",
     "text": [
      "591363\n"
     ]
    }
   ],
   "source": [
    "#neural network for n=2, model 2\n",
    "class NeuralNetwork(nn.Module):\n",
    "    def __init__(self):\n",
    "        super(NeuralNetwork, self).__init__()\n",
    "        self.fc1 = nn.Linear(1536,384).double()\n",
    "        self.dropout = nn.Dropout(p=0.2)\n",
    "        self.fc2 = nn.Linear(384,2).double()\n",
    "        self.relu = nn.ReLU() #leakyrelu\n",
    "\n",
    "    def forward(self, x):\n",
    "        x = self.relu(self.fc1(x))\n",
    "        x = self.dropout(x)\n",
    "        x = self.fc2(x) #sigmoid\n",
    "        return x\n",
    "\n",
    "device  = (\"cuda\" if torch.cuda.is_available() else \"cpu\")   \n",
    "model = NeuralNetwork()\n",
    "model.to(device)\n",
    "\n",
    "#store the number of parameters for the model\n",
    "num_parameters = count_parameters(model)\n",
    "print(num_parameters)"
   ]
  },
  {
   "cell_type": "code",
   "execution_count": 15,
   "metadata": {},
   "outputs": [
    {
     "name": "stdout",
     "output_type": "stream",
     "text": [
      "1182723\n"
     ]
    }
   ],
   "source": [
    "#neural network for n=2, model 3\n",
    "class NeuralNetwork(nn.Module):\n",
    "    def __init__(self):\n",
    "        super(NeuralNetwork, self).__init__()\n",
    "        self.fc1 = nn.Linear(1536,768).double()\n",
    "        self.dropout = nn.Dropout(p=0.2)\n",
    "        self.fc2 = nn.Linear(768,2).double()\n",
    "        self.relu = nn.ReLU() #leakyrelu\n",
    "\n",
    "    def forward(self, x):\n",
    "        x = self.relu(self.fc1(x))\n",
    "        x = self.dropout(x)\n",
    "        x = self.fc2(x) #sigmoid\n",
    "        return x\n",
    "\n",
    "device  = (\"cuda\" if torch.cuda.is_available() else \"cpu\")   \n",
    "model = NeuralNetwork()\n",
    "model.to(device)\n",
    "\n",
    "#store the number of parameters for the model\n",
    "num_parameters = count_parameters(model)\n",
    "print(num_parameters)"
   ]
  },
  {
   "cell_type": "code",
   "execution_count": 16,
   "metadata": {},
   "outputs": [
    {
     "name": "stdout",
     "output_type": "stream",
     "text": [
      "18883587\n"
     ]
    }
   ],
   "source": [
    "#neural network for n=2, model 4\n",
    "class NeuralNetwork(nn.Module):\n",
    "    def __init__(self):\n",
    "        super(NeuralNetwork, self).__init__()\n",
    "        self.fc1 = nn.Linear(4608,3072).double()\n",
    "        self.dropout1 = nn.Dropout(p=0.2)\n",
    "        self.fc2 = nn.Linear(3072,1536).double()\n",
    "        self.dropout2 = nn.Dropout(p=0.2)\n",
    "        self.fc3 = nn.Linear(1536,2).double()\n",
    "        self.relu = nn.ReLU() #leakyrelu\n",
    "\n",
    "    def forward(self, x):\n",
    "        x = self.relu(self.fc1(x))\n",
    "        x = self.dropout1(x)\n",
    "        x = self.relu(self.fc2(x))\n",
    "        x = self.dropout2(x)\n",
    "        x = self.fc3(x) #sigmoid\n",
    "        return x\n",
    "\n",
    "device  = (\"cuda\" if torch.cuda.is_available() else \"cpu\")   \n",
    "model = NeuralNetwork()\n",
    "model.to(device)\n",
    "\n",
    "#store the number of parameters for the model\n",
    "num_parameters = count_parameters(model)\n",
    "print(num_parameters)"
   ]
  },
  {
   "cell_type": "code",
   "execution_count": 17,
   "metadata": {},
   "outputs": [
    {
     "name": "stdout",
     "output_type": "stream",
     "text": [
      "20061699\n"
     ]
    }
   ],
   "source": [
    "#neural network for n=2, model 5\n",
    "class NeuralNetwork(nn.Module):\n",
    "    def __init__(self):\n",
    "        super(NeuralNetwork, self).__init__()\n",
    "        self.fc1 = nn.Linear(4608,3072).double()\n",
    "        self.dropout1 = nn.Dropout(p=0.2)\n",
    "        self.fc2 = nn.Linear(3072,1536).double()\n",
    "        self.dropout2 = nn.Dropout(p=0.2)\n",
    "        self.fc3 = nn.Linear(1536,768).double()\n",
    "        self.dropout3 = nn.Dropout(p=0.2)\n",
    "        self.fc4 = nn.Linear(768,2).double()\n",
    "        self.relu = nn.ReLU() #leakyrelu\n",
    "\n",
    "    def forward(self, x):\n",
    "        x = self.relu(self.fc1(x))\n",
    "        x = self.dropout1(x)\n",
    "        x = self.relu(self.fc2(x))\n",
    "        x = self.dropout2(x)\n",
    "        x = self.relu(self.fc3(x))\n",
    "        x = self.dropout3(x)\n",
    "        x = self.fc4(x) #sigmoid\n",
    "        return x\n",
    "\n",
    "device  = (\"cuda\" if torch.cuda.is_available() else \"cpu\")   \n",
    "model = NeuralNetwork()\n",
    "model.to(device)\n",
    "\n",
    "#store the number of parameters for the model\n",
    "num_parameters = count_parameters(model)\n",
    "print(num_parameters)"
   ]
  },
  {
   "cell_type": "code",
   "execution_count": 18,
   "metadata": {},
   "outputs": [
    {
     "name": "stdout",
     "output_type": "stream",
     "text": [
      "296451\n"
     ]
    }
   ],
   "source": [
    "#neural network for n=3, model -1\n",
    "class NeuralNetwork(nn.Module):\n",
    "    def __init__(self):\n",
    "        super(NeuralNetwork, self).__init__()\n",
    "        self.fc1 = nn.Linear(768,384).double()\n",
    "        self.dropout = nn.Dropout(p=0.2)\n",
    "        self.fc2 = nn.Linear(384,2).double()\n",
    "        self.relu = nn.ReLU()\n",
    "\n",
    "    def forward(self, x):\n",
    "        x = self.relu(self.fc1(x))\n",
    "        x = self.dropout(x)\n",
    "        x = self.fc2(x)\n",
    "        return x\n",
    "\n",
    "device  = (\"cuda\" if torch.cuda.is_available() else \"cpu\")   \n",
    "model = NeuralNetwork()\n",
    "model.to(device)\n",
    "\n",
    "#store the number of parameters for the model\n",
    "num_parameters = count_parameters(model)\n",
    "print(num_parameters)"
   ]
  },
  {
   "cell_type": "code",
   "execution_count": 19,
   "metadata": {},
   "outputs": [
    {
     "name": "stdout",
     "output_type": "stream",
     "text": [
      "1182723\n"
     ]
    }
   ],
   "source": [
    "#neural network for n=3, model 0\n",
    "class NeuralNetwork(nn.Module):\n",
    "    def __init__(self):\n",
    "        super(NeuralNetwork, self).__init__()\n",
    "        self.fc1 = nn.Linear(1536,768).double()\n",
    "        self.dropout = nn.Dropout(p=0.2)\n",
    "        self.fc2 = nn.Linear(768,2).double()\n",
    "        self.relu = nn.ReLU()\n",
    "\n",
    "    def forward(self, x):\n",
    "        x = self.relu(self.fc1(x))\n",
    "        x = self.dropout(x)\n",
    "        x = self.fc2(x)\n",
    "        return x\n",
    "\n",
    "device  = (\"cuda\" if torch.cuda.is_available() else \"cpu\")   \n",
    "model = NeuralNetwork()\n",
    "model.to(device)\n",
    "\n",
    "#store the number of parameters for the model\n",
    "num_parameters = count_parameters(model)\n",
    "print(num_parameters)"
   ]
  },
  {
   "cell_type": "code",
   "execution_count": 20,
   "metadata": {},
   "outputs": [
    {
     "name": "stdout",
     "output_type": "stream",
     "text": [
      "9443331\n"
     ]
    }
   ],
   "source": [
    "#neural network for n=3, model 1\n",
    "class NeuralNetwork(nn.Module):\n",
    "    def __init__(self):\n",
    "        super(NeuralNetwork, self).__init__()\n",
    "        self.fc1 = nn.Linear(6144,1536).double()\n",
    "        self.dropout = nn.Dropout(p=0.5)\n",
    "        self.fc2 = nn.Linear(1536,2).double()\n",
    "        self.relu = nn.ReLU()\n",
    "\n",
    "    def forward(self, x):\n",
    "        x = self.relu(self.fc1(x))\n",
    "        x = self.dropout(x)\n",
    "        x = self.fc2(x)\n",
    "        return x\n",
    "\n",
    "device  = (\"cuda\" if torch.cuda.is_available() else \"cpu\")   \n",
    "model = NeuralNetwork()\n",
    "model.to(device)\n",
    "\n",
    "#store the number of parameters for the model\n",
    "num_parameters = count_parameters(model)\n",
    "print(num_parameters)"
   ]
  },
  {
   "cell_type": "code",
   "execution_count": 21,
   "metadata": {},
   "outputs": [
    {
     "name": "stdout",
     "output_type": "stream",
     "text": [
      "23602179\n"
     ]
    }
   ],
   "source": [
    "#neural network for n=3, model 2\n",
    "class NeuralNetwork(nn.Module):\n",
    "    def __init__(self):\n",
    "        super(NeuralNetwork, self).__init__()\n",
    "        self.fc1 = nn.Linear(6144,3072).double()\n",
    "        self.dropout1 = nn.Dropout(p=0.2)\n",
    "        self.fc2 = nn.Linear(3072,1536).double()\n",
    "        self.dropout2 = nn.Dropout(p=0.2)\n",
    "        self.fc3 = nn.Linear(1536,2).double()\n",
    "        self.relu = nn.ReLU()\n",
    "\n",
    "    def forward(self, x):\n",
    "        x = self.relu(self.fc1(x))\n",
    "        x = self.dropout1(x)\n",
    "        x = self.relu(self.fc2(x))\n",
    "        x = self.dropout2(x)\n",
    "        x = self.fc3(x)\n",
    "        return x\n",
    "\n",
    "device  = (\"cuda\" if torch.cuda.is_available() else \"cpu\")   \n",
    "model = NeuralNetwork()\n",
    "model.to(device)\n",
    "\n",
    "#store the number of parameters for the model\n",
    "num_parameters = count_parameters(model)\n",
    "print(num_parameters)"
   ]
  },
  {
   "cell_type": "code",
   "execution_count": 22,
   "metadata": {},
   "outputs": [
    {
     "name": "stdout",
     "output_type": "stream",
     "text": [
      "24188931\n"
     ]
    }
   ],
   "source": [
    "#neural network for n=3, model 3\n",
    "class NeuralNetwork(nn.Module):\n",
    "    def __init__(self):\n",
    "        super(NeuralNetwork, self).__init__()\n",
    "        self.fc1 = nn.Linear(6144,3072).double()\n",
    "        self.dropout1 = nn.Dropout(p=0.2)\n",
    "        self.fc2 = nn.Linear(3072,1536).double()\n",
    "        self.dropout2 = nn.Dropout(p=0.2)\n",
    "        self.fc3 = nn.Linear(1536,384).double()\n",
    "        self.dropout3 = nn.Dropout(p=0.2)\n",
    "        self.fc4 = nn.Linear(384,2).double()\n",
    "        self.relu = nn.ReLU()\n",
    "\n",
    "    def forward(self, x):\n",
    "        x = self.relu(self.fc1(x))\n",
    "        x = self.dropout1(x)\n",
    "        x = self.relu(self.fc2(x))\n",
    "        x = self.dropout2(x)\n",
    "        x = self.relu(self.fc3(x))\n",
    "        x = self.dropout3(x)\n",
    "        x = self.fc4(x)\n",
    "        return x\n",
    "\n",
    "device  = (\"cuda\" if torch.cuda.is_available() else \"cpu\")   \n",
    "model = NeuralNetwork()\n",
    "model.to(device)\n",
    "\n",
    "#store the number of parameters for the model\n",
    "num_parameters = count_parameters(model)\n",
    "print(num_parameters)"
   ]
  },
  {
   "cell_type": "code",
   "execution_count": 23,
   "metadata": {},
   "outputs": [
    {
     "name": "stdout",
     "output_type": "stream",
     "text": [
      "25074435\n"
     ]
    }
   ],
   "source": [
    "#neural network for n=3, model 4\n",
    "class NeuralNetwork(nn.Module):\n",
    "    def __init__(self):\n",
    "        super(NeuralNetwork, self).__init__()\n",
    "        self.fc1 = nn.Linear(6144,3072).double()\n",
    "        self.dropout1 = nn.Dropout(p=0.2)\n",
    "        self.fc2 = nn.Linear(3072,1536).double()\n",
    "        self.dropout2 = nn.Dropout(p=0.2)\n",
    "        self.fc3 = nn.Linear(1536,768).double()\n",
    "        self.dropout3 = nn.Dropout(p=0.2)\n",
    "        self.fc4 = nn.Linear(768,384).double()\n",
    "        self.dropout4 = nn.Dropout(p=0.2)\n",
    "        self.fc5 = nn.Linear(384,2).double()\n",
    "        self.relu = nn.ReLU()\n",
    "\n",
    "    def forward(self, x):\n",
    "        x = self.relu(self.fc1(x))\n",
    "        x = self.dropout1(x)\n",
    "        x = self.relu(self.fc2(x))\n",
    "        x = self.dropout2(x)\n",
    "        x = self.relu(self.fc3(x))\n",
    "        x = self.dropout3(x)\n",
    "        x = self.relu(self.fc4(x))\n",
    "        x = self.dropout4(x)\n",
    "        x = self.fc5(x)\n",
    "        return x\n",
    "\n",
    "device  = (\"cuda\" if torch.cuda.is_available() else \"cpu\")   \n",
    "model = NeuralNetwork()\n",
    "model.to(device)\n",
    "\n",
    "#store the number of parameters for the model\n",
    "num_parameters = count_parameters(model)\n",
    "print(num_parameters)"
   ]
  },
  {
   "cell_type": "code",
   "execution_count": 24,
   "metadata": {},
   "outputs": [
    {
     "name": "stdout",
     "output_type": "stream",
     "text": [
      "48672003\n"
     ]
    }
   ],
   "source": [
    "#neural network for n=3, model 5\n",
    "class NeuralNetwork(nn.Module):\n",
    "    def __init__(self):\n",
    "        super(NeuralNetwork, self).__init__()\n",
    "        self.fc1 = nn.Linear(6144,4608).double()\n",
    "        self.dropout1 = nn.Dropout(p=0.2)\n",
    "        self.fc2 = nn.Linear(4608,3072).double()\n",
    "        self.dropout2 = nn.Dropout(p=0.2)\n",
    "        self.fc3 = nn.Linear(3072,1536).double()\n",
    "        self.dropout3 = nn.Dropout(p=0.2)\n",
    "        self.fc4 = nn.Linear(1536,768).double()\n",
    "        self.dropout4 = nn.Dropout(p=0.2)\n",
    "        self.fc5 = nn.Linear(768,384).double()\n",
    "        self.dropout5 = nn.Dropout(p=0.2)\n",
    "        self.fc6 = nn.Linear(384,2).double()\n",
    "        self.relu = nn.ReLU()\n",
    "\n",
    "    def forward(self, x):\n",
    "        x = self.relu(self.fc1(x))\n",
    "        x = self.dropout1(x)\n",
    "        x = self.relu(self.fc2(x))\n",
    "        x = self.dropout2(x)\n",
    "        x = self.relu(self.fc3(x))\n",
    "        x = self.dropout3(x)\n",
    "        x = self.relu(self.fc4(x))\n",
    "        x = self.dropout4(x)\n",
    "        x = self.relu(self.fc5(x))\n",
    "        x = self.dropout5(x)\n",
    "        x = self.fc6(x)\n",
    "        return x\n",
    "\n",
    "device  = (\"cuda\" if torch.cuda.is_available() else \"cpu\")   \n",
    "model = NeuralNetwork()\n",
    "model.to(device)\n",
    "\n",
    "#store the number of parameters for the model\n",
    "num_parameters = count_parameters(model)\n",
    "print(num_parameters)"
   ]
  }
 ],
 "metadata": {
  "kernelspec": {
   "display_name": "Python 3",
   "language": "python",
   "name": "python3"
  },
  "language_info": {
   "codemirror_mode": {
    "name": "ipython",
    "version": 3
   },
   "file_extension": ".py",
   "mimetype": "text/x-python",
   "name": "python",
   "nbconvert_exporter": "python",
   "pygments_lexer": "ipython3",
   "version": "3.10.8"
  }
 },
 "nbformat": 4,
 "nbformat_minor": 2
}
